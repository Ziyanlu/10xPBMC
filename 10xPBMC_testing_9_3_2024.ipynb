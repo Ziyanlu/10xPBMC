{
 "cells": [
  {
   "cell_type": "code",
   "execution_count": null,
   "id": "82befbd1",
   "metadata": {},
   "outputs": [],
   "source": [
    "import pandas as pd\n",
    "import numpy as np\n",
    "import seaborn as sns\n",
    "import matplotlib.pyplot as plt\n",
    "import os\n",
    "import warnings\n",
    "import scanpy as sc\n",
    "import scvi\n",
    "import sc_utils\n",
    "import scrublet as scr\n",
    "warnings.filterwarnings('ignore')"
   ]
  },
  {
   "cell_type": "code",
   "execution_count": null,
   "id": "63857727",
   "metadata": {},
   "outputs": [],
   "source": [
    "adata = sc.read_h5ad(\"/projects/b1038/Pulmonary/ziyan/10xGenomics_PBMC_datasets/data/PBMC_integrated.h5ad\")\n"
   ]
  },
  {
   "cell_type": "code",
   "execution_count": null,
   "id": "add99a6e",
   "metadata": {},
   "outputs": [],
   "source": [
    "adata.obs\n"
   ]
  },
  {
   "cell_type": "code",
   "execution_count": null,
   "id": "18eb4436",
   "metadata": {},
   "outputs": [],
   "source": [
    "adata.obs.library_id.value_counts()"
   ]
  },
  {
   "cell_type": "code",
   "execution_count": null,
   "id": "c113da4f",
   "metadata": {},
   "outputs": [],
   "source": [
    "adata\n",
    "\n"
   ]
  },
  {
   "cell_type": "code",
   "execution_count": null,
   "id": "4513ff70",
   "metadata": {},
   "outputs": [],
   "source": [
    "sc.pp.neighbors(adata,use_rep = 'X_scVI')"
   ]
  },
  {
   "cell_type": "code",
   "execution_count": null,
   "id": "74d79113",
   "metadata": {},
   "outputs": [],
   "source": [
    "sc.tl.umap(adata)"
   ]
  },
  {
   "cell_type": "code",
   "execution_count": null,
   "id": "21a6418b",
   "metadata": {},
   "outputs": [],
   "source": [
    "sc.tl.leiden(adata, resolution =0.5)"
   ]
  },
  {
   "cell_type": "code",
   "execution_count": null,
   "id": "f25ab49e",
   "metadata": {},
   "outputs": [],
   "source": [
    "adata.obs.head()"
   ]
  },
  {
   "cell_type": "code",
   "execution_count": null,
   "id": "2f23165f",
   "metadata": {},
   "outputs": [],
   "source": [
    "sc.pl.umap(adata, color = ['leiden', 'library_id'], frameon = False)"
   ]
  },
  {
   "cell_type": "code",
   "execution_count": null,
   "id": "a2e1c5b9",
   "metadata": {},
   "outputs": [],
   "source": [
    "sc.pl.umap(adata, color = ['CD3D'], frameon = False, layer = 'scvi_normalized')"
   ]
  },
  {
   "cell_type": "code",
   "execution_count": null,
   "id": "b797c70b",
   "metadata": {},
   "outputs": [],
   "source": [
    "adata\n"
   ]
  },
  {
   "cell_type": "code",
   "execution_count": null,
   "id": "65b4d0d6",
   "metadata": {},
   "outputs": [],
   "source": [
    "markers = pd.read_csv('/projects/b1038/Pulmonary/ziyan/10xGenomics_PBMC_datasets/data/PBMC_integrated-markers.csv')\n",
    "markers"
   ]
  },
  {
   "cell_type": "code",
   "execution_count": null,
   "id": "9eb192b6",
   "metadata": {},
   "outputs": [],
   "source": []
  },
  {
   "cell_type": "code",
   "execution_count": null,
   "id": "34e1a809",
   "metadata": {},
   "outputs": [],
   "source": []
  }
 ],
 "metadata": {
  "kernelspec": {
   "display_name": "scvi_venv",
   "language": "python",
   "name": "scvi_venv"
  },
  "language_info": {
   "codemirror_mode": {
    "name": "ipython",
    "version": 3
   },
   "file_extension": ".py",
   "mimetype": "text/x-python",
   "name": "python",
   "nbconvert_exporter": "python",
   "pygments_lexer": "ipython3",
   "version": "3.9.5"
  }
 },
 "nbformat": 4,
 "nbformat_minor": 5
}
