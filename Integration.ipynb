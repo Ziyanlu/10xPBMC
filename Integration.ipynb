{
 "cells": [
  {
   "cell_type": "code",
   "execution_count": 1,
   "id": "6d51e931",
   "metadata": {},
   "outputs": [],
   "source": [
    "import pandas as pd\n",
    "import numpy as np\n",
    "import seaborn as sns\n",
    "import matplotlib.pyplot as plt\n",
    "import os\n",
    "import warnings\n",
    "import scanpy as sc\n",
    "import scvi\n",
    "import sc_utils\n",
    "import scrublet as scr\n",
    "warnings.filterwarnings('ignore')"
   ]
  },
  {
   "cell_type": "code",
   "execution_count": 2,
   "id": "317ab305",
   "metadata": {},
   "outputs": [],
   "source": [
    "def get_markers(adata,groupby,key=\"rank_genes_groups\",p_val_cutoff=0.05,logfc_cutoff=0.5):\n",
    "    \"\"\"\\\n",
    "    Extract markers from adata into Seurat-like table\n",
    "    Extracts markers after they are computed by ``scanpy``. Produces Seurat-like\n",
    "    table with fields\n",
    "    ``\"p_val\", \"avg_logFC\", \"pct.1\", \"pct.2\", \"p_val_adj\", \"cluster\", \"gene\"``\n",
    "    Calculates the percentage of cells that express a given gene\n",
    "    in the target cluster (``pct.1`` field) and outside the cluster\n",
    "    (``pct.2`` field) from ``adata.raw`` matrix.\n",
    "    Parameters\n",
    "    ----------\n",
    "    adata\n",
    "        Annotated data matrix.\n",
    "    groupby\n",
    "        ``adata.obs`` field used for marker calculation\n",
    "    key\n",
    "        ``adata.uns`` key that has computed markers\n",
    "    p_val_cutoff\n",
    "        Drop all genes with adjusted p-value greater than or equal to this\n",
    "    logfc_cutoff\n",
    "        Drop all genes with average logFC less than or equal to this\n",
    "    Returns\n",
    "    -------\n",
    "    Returns a pandas dataframe with above listed columns, optionally\n",
    "    subsetted on the genes that pass the cutoffs.\n",
    "    ``p_val`` field is a copy of adjusted p-value field.\n",
    "    Example\n",
    "    -------\n",
    "    >>> sc.tl.rank_genes_groups(adata, \"leiden\", method=\"wilcoxon\", n_genes=200)\n",
    "    >>> markers = sc_utils.get_markers(adata, \"leiden\")\n",
    "    >>> markers.to_csv(\"markers.csv\")\n",
    "    \"\"\"\n",
    "    markers = pd.concat([\n",
    "        pd.DataFrame(adata.uns[key][\"names\"]).melt(),\n",
    "        pd.DataFrame(adata.uns[key][\"pvals_adj\"]).melt(),\n",
    "        pd.DataFrame(adata.uns[key][\"logfoldchanges\"]).melt()\n",
    "    ], axis=1)\n",
    "    markers.columns = (\"cluster\", \"gene\", \"cluster2\", \"p_val_adj\", \"cluster3\", \"avg_logFC\")\n",
    "    markers = markers.loc[:, [\"cluster\", \"gene\", \"avg_logFC\", \"p_val_adj\"]]\n",
    "    markers = markers.loc[markers.avg_logFC > logfc_cutoff, ]\n",
    "    markers = markers.loc[markers.p_val_adj < p_val_cutoff, ]\n",
    "    markers[\"pct.1\"] = pd.Series(dtype=float)\n",
    "    markers[\"pct.2\"] = pd.Series(dtype=float)\n",
    "    for cluster in markers.cluster.unique():\n",
    "        cells = adata.obs[groupby] == cluster\n",
    "        in_cluster_selector = markers.cluster == cluster\n",
    "        genes = markers.gene[in_cluster_selector]\n",
    "        in_cluster = np.sum(adata.raw[cells, genes].X > 0, axis=0) / cells.sum()\n",
    "        markers.loc[in_cluster_selector, \"pct.1\"] = in_cluster.T.A1\n",
    "        other_cells = adata.obs[groupby] != cluster\n",
    "        other_clusters = np.sum(adata.raw[other_cells, genes].X > 0, axis=0) / other_cells.sum()\n",
    "        markers.loc[in_cluster_selector, \"pct.2\"] = other_clusters.T.A1\n",
    "    markers[\"p_val\"] = markers.p_val_adj\n",
    "    markers = markers.loc[:, [\"p_val\", \"avg_logFC\", \"pct.1\", \"pct.2\", \"p_val_adj\", \"cluster\", \"gene\"]]\n",
    "    return markers"
   ]
  },
  {
   "cell_type": "code",
   "execution_count": 4,
   "id": "a8a38d98",
   "metadata": {},
   "outputs": [],
   "source": [
    "adata = sc.read_h5ad('../data/10x_PBMC.h5ad')"
   ]
  },
  {
   "cell_type": "code",
   "execution_count": 5,
   "id": "ff4ed562",
   "metadata": {},
   "outputs": [],
   "source": [
    "FOLDER = '../data'\n",
    "OBJ_NAME = 'PBMC_integrated'\n",
    "BATCH_VARIABLE = 'library_id'"
   ]
  },
  {
   "cell_type": "code",
   "execution_count": 6,
   "id": "9c843b09",
   "metadata": {},
   "outputs": [],
   "source": [
    "adata.layers['counts'] = adata.X\n",
    "sc.pp.normalize_total(adata,target_sum=1e4)\n",
    "sc.pp.log1p(adata)\n",
    "adata.raw = adata\n",
    "\n",
    "sc.pp.highly_variable_genes(adata,subset=True,n_top_genes=2000,batch_key=BATCH_VARIABLE,flavor='seurat_v3',layer='counts')"
   ]
  }
 ],
 "metadata": {
  "kernelspec": {
   "display_name": "scvi_venv",
   "language": "python",
   "name": "scvi_venv"
  },
  "language_info": {
   "codemirror_mode": {
    "name": "ipython",
    "version": 3
   },
   "file_extension": ".py",
   "mimetype": "text/x-python",
   "name": "python",
   "nbconvert_exporter": "python",
   "pygments_lexer": "ipython3",
   "version": "3.9.5"
  }
 },
 "nbformat": 4,
 "nbformat_minor": 5
}
